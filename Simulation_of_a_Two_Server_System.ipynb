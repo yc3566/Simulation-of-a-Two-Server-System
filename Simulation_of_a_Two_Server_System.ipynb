{
  "nbformat": 4,
  "nbformat_minor": 0,
  "metadata": {
    "colab": {
      "name": "Simulation of a Two Server System.ipynb",
      "provenance": [],
      "collapsed_sections": []
    },
    "kernelspec": {
      "name": "python3",
      "display_name": "Python 3"
    }
  },
  "cells": [
    {
      "cell_type": "markdown",
      "metadata": {
        "id": "6xc_TTdnsWLV",
        "colab_type": "text"
      },
      "source": [
        "##Simulation\n",
        "\n",
        "A vendor is running a promotion for 2 hours.  The arrival of the customers follows a non-homogenous process. The arrival rate follows the following function:\n",
        "\n",
        "$\\lambda(t)=1000 **exp**(-\\frac{t^2}{2}) \\text{ for } 0 \\leq t \\leq 2$\n",
        "\n",
        "Assume that customers will make a choice between a sample of lemonade from table 1 or a sample of orange juice from table 2.  The consumer can only choose one sample. Assume that a customer might line up for lemonade with 0.5 probability (Type 1) or line up for orange juice with 0.5 probability (Type 2). Due to safety concerns, a new customer will be rejected if the total customers lining up is 10 upon the arrival.\n",
        "\n",
        "The service time for table 1 follows a uniform distribution between 0 and 0.05. The service follows first in first out. \n",
        "\n",
        "The service time for table 2 follows a distribution with CDF $F(t)=\\frac{2}{\\pi}arcsin\\sqrt{\\frac{t-0.01}{0.05}}$. The service follows first in first out. \n",
        "(arcsin(x) is sympy.asin(x) using sympy. sin(x) can be computed using np.sin in numpy)\n",
        "\n",
        "\n",
        "Goal: simulate the system to see how many customers will be rejected.  "
      ]
    },
    {
      "cell_type": "code",
      "metadata": {
        "id": "pieMZxiHYFiL",
        "colab_type": "code",
        "colab": {}
      },
      "source": [
        "import numpy as np\n",
        "import matplotlib.pyplot as plt\n",
        "import sympy \n",
        "import scipy.misc as spm\n",
        "import scipy.stats as sps \n",
        "from scipy.special import erf"
      ],
      "execution_count": 0,
      "outputs": []
    },
    {
      "cell_type": "markdown",
      "metadata": {
        "id": "t5ohec27NsdX",
        "colab_type": "text"
      },
      "source": [
        "##Generate arrival times of customers using thinning methods\n",
        "\n"
      ]
    },
    {
      "cell_type": "code",
      "metadata": {
        "id": "2EZGJgPm4U6C",
        "colab_type": "code",
        "colab": {}
      },
      "source": [
        "def arrival_thinning():               \n",
        "  t=np.linspace(0,2,1000)\n",
        "  lambdat=1000*np.exp(-t**2/2)\n",
        "  lambda_max=np.max(lambdat)\n",
        "  T=2\n",
        "  N_arrivals=np.random.poisson(lambda_max*T)\n",
        "  arrival_times=np.sort(np.random.rand(N_arrivals)*T)\n",
        " \n",
        "  AR=1000*np.exp(-arrival_times**2/2)/lambda_max\n",
        "  \n",
        "  arrival_times=arrival_times[np.random.rand(N_arrivals)<AR]\n",
        "  return  arrival_times"
      ],
      "execution_count": 0,
      "outputs": []
    },
    {
      "cell_type": "markdown",
      "metadata": {
        "id": "zsm9gjjJTLXB",
        "colab_type": "text"
      },
      "source": [
        "##Generate arrival times of customers using ordered statistics method"
      ]
    },
    {
      "cell_type": "code",
      "metadata": {
        "id": "Go-63jb1Qh-f",
        "colab_type": "code",
        "outputId": "e27f22a3-0c5f-4d63-8321-29b554624aa9",
        "colab": {
          "base_uri": "https://localhost:8080/",
          "height": 69
        }
      },
      "source": [
        "t1=sympy.Symbol(\"t\")             \n",
        "Integrated=sympy.integrate(1000*sympy.exp(-t1**2/2),(t1,0,2))\n",
        "print(Integrated)  \n",
        "print(sympy.N(Integrated))\n",
        "print(Integrated.evalf() )\n",
        "LambdaT=float(Integrated.evalf())"
      ],
      "execution_count": 0,
      "outputs": [
        {
          "output_type": "stream",
          "text": [
            "500*sqrt(2)*sqrt(pi)*erf(sqrt(2))\n",
            "1196.28801332261\n",
            "1196.28801332261\n"
          ],
          "name": "stdout"
        }
      ]
    },
    {
      "cell_type": "code",
      "metadata": {
        "id": "MNfrwnnsXSWu",
        "colab_type": "code",
        "outputId": "b89e7927-59c3-45be-cdfc-a8c769901fb7",
        "colab": {
          "base_uri": "https://localhost:8080/",
          "height": 34
        }
      },
      "source": [
        "sympy.integrate(1000*sympy.exp(-t1**2/2)/LambdaT,(t1,0,t1))"
      ],
      "execution_count": 0,
      "outputs": [
        {
          "output_type": "execute_result",
          "data": {
            "text/plain": [
              "0.417959550235135*sqrt(2)*sqrt(pi)*erf(sqrt(2)*t/2)"
            ]
          },
          "metadata": {
            "tags": []
          },
          "execution_count": 30
        }
      ]
    },
    {
      "cell_type": "code",
      "metadata": {
        "id": "Vgo1UP0p-fsX",
        "colab_type": "code",
        "colab": {}
      },
      "source": [
        "t=np.linspace(0,2,1000)\n",
        "pdf_target=1000*np.exp(-t**2/2)/LambdaT\n",
        "#proposal distribution : uniform (0,2)\n",
        "pdf_proposal=1/2\n",
        "c=np.max(pdf_target/pdf_proposal)\n",
        "\n",
        "def rejection():\n",
        "  proposal=np.random.rand()*2\n",
        "  pdf_target=1000*np.exp(-proposal**2/2)/LambdaT\n",
        "  pdf_proposal=1/2\n",
        "  AR=pdf_target/pdf_proposal/c\n",
        "  \n",
        "  while (np.random.rand()>AR):\n",
        "    proposal=np.random.rand()*2\n",
        "    pdf_target=1000*np.exp(-proposal**2/2)/LambdaT\n",
        "    pdf_proposal=1/2\n",
        "    AR=pdf_target/pdf_proposal/c\n",
        "    \n",
        "  return proposal\n"
      ],
      "execution_count": 0,
      "outputs": []
    },
    {
      "cell_type": "code",
      "metadata": {
        "id": "gitFDdCMQTMf",
        "colab_type": "code",
        "colab": {}
      },
      "source": [
        "def arrival_ordered():\n",
        "  CDF=np.random.rand()\n",
        "  N_arrivals=int(sps.poisson.ppf(CDF,LambdaT))\n",
        "  arrival_times=[rejection() for i in range(N_arrivals)]\n",
        "  arrival_times=np.sort(np.array(arrival_times))\n",
        "\n",
        "  return  arrival_times  "
      ],
      "execution_count": 0,
      "outputs": []
    },
    {
      "cell_type": "markdown",
      "metadata": {
        "id": "byEfFyrnPH82",
        "colab_type": "text"
      },
      "source": [
        "##Generate customer type\n",
        "\n"
      ]
    },
    {
      "cell_type": "code",
      "metadata": {
        "id": "-JGQRMLjPLM_",
        "colab_type": "code",
        "colab": {}
      },
      "source": [
        "def consumertype(arrival_times): \n",
        "  Lemon=np.random.rand(len(arrival_times))<0.5\n",
        "  return  Lemon*1"
      ],
      "execution_count": 0,
      "outputs": []
    },
    {
      "cell_type": "markdown",
      "metadata": {
        "id": "5EUnBqiFPdaX",
        "colab_type": "text"
      },
      "source": [
        "##Generate service time for server 1"
      ]
    },
    {
      "cell_type": "code",
      "metadata": {
        "id": "lwfksG-ZPipW",
        "colab_type": "code",
        "colab": {}
      },
      "source": [
        "def servicetime1(Lemon):\n",
        "  size=np.sum(Lemon)\n",
        "  service_time1=np.random.rand(size)*0.05\n",
        "  return service_time1"
      ],
      "execution_count": 0,
      "outputs": []
    },
    {
      "cell_type": "markdown",
      "metadata": {
        "id": "f52rtgTmPxK3",
        "colab_type": "text"
      },
      "source": [
        "##Generate service time for server 2"
      ]
    },
    {
      "cell_type": "code",
      "metadata": {
        "id": "Y2ftVF_zFZWf",
        "colab_type": "code",
        "outputId": "6ca802de-af95-4cc3-cfbb-21a6035c9ddc",
        "colab": {
          "base_uri": "https://localhost:8080/",
          "height": 34
        }
      },
      "source": [
        "cdf1=sympy.Symbol(\"CDF\")\n",
        "t1=sympy.Symbol(\"t\")\n",
        "sympy.solve(2/sympy.pi*sympy.asin(((t1-0.01)/0.05)**0.5)-cdf1,t1)"
      ],
      "execution_count": 0,
      "outputs": [
        {
          "output_type": "execute_result",
          "data": {
            "text/plain": [
              "[-0.025*cos(3.14159265358979*CDF) + 0.035]"
            ]
          },
          "metadata": {
            "tags": []
          },
          "execution_count": 35
        }
      ]
    },
    {
      "cell_type": "code",
      "metadata": {
        "id": "pceJO2zx8KjX",
        "colab_type": "code",
        "colab": {}
      },
      "source": [
        "def servicetime2(Lemon):\n",
        "  size=np.sum(1-Lemon)\n",
        "  u=np.random.rand(size)\n",
        "  service_time2=-0.025*np.cos(3.14159265358979*u) + 0.035\n",
        "  return service_time2"
      ],
      "execution_count": 0,
      "outputs": []
    },
    {
      "cell_type": "markdown",
      "metadata": {
        "id": "T0W0dMQ2rDKE",
        "colab_type": "text"
      },
      "source": [
        "##Simulation of system"
      ]
    },
    {
      "cell_type": "code",
      "metadata": {
        "id": "W2BXgH4V_sG0",
        "colab_type": "code",
        "colab": {}
      },
      "source": [
        "def system_sub(arrival_times, service1,service2,consumer_type):\n",
        "  #Initialization\n",
        "  t=0\n",
        "  N_arrived=0\n",
        "  N_depart1=0\n",
        "  N_depart2=0\n",
        "  n1=0\n",
        "  n2=0\n",
        "  N_rejected=0\n",
        "  Total_N=len(arrival_times)\n",
        "  \n",
        "  t_arrival=arrival_times[N_arrived]\n",
        "  t_depart1=np.inf\n",
        "  t_depart2=np.inf\n",
        "  \n",
        "\n",
        "  while( N_arrived<Total_N):\n",
        "\n",
        "    if t_arrival==min(t_arrival,t_depart1,t_depart2):       #Event of customer arriving\n",
        "      t=t_arrival\n",
        "      N_arrived= N_arrived+1\n",
        "      if N_arrived<Total_N:\n",
        "        t_arrival=arrival_times[N_arrived]\n",
        "      else:\n",
        "        t_arrival=np.inf\n",
        "      \n",
        "      if n1+n2<10:                                         #If full, rejected\n",
        "        \n",
        "        if consumer_type[N_arrived-1]==1:                  #Assigned to server 1\n",
        "          n1=n1+1\n",
        "          if n1==1:\n",
        "            t_depart1=t+service1[N_depart1]\n",
        "        else:                                              #Assigned to server 2\n",
        "          n2=n2+1\n",
        "          if n2==1:\n",
        "            t_depart2=t+service2[N_depart2]  \n",
        "      else:\n",
        "        N_rejected=N_rejected+1\n",
        "     \n",
        "    elif t_depart1==min(t_arrival,t_depart1,t_depart2):    #Event of customer departing server 1\n",
        "      t=t_depart1\n",
        "      N_depart1=N_depart1+1\n",
        "      n1=n1-1\n",
        "      if n1>0:\n",
        "        t_depart1=t+service1[N_depart1]\n",
        "      else:\n",
        "        t_depart1=np.inf\n",
        "    else:                                                  #Event of customer departing server 2\n",
        "      t=t_depart2\n",
        "      N_depart2=N_depart2+1\n",
        "      n2=n2-1\n",
        "      if n2>0:\n",
        "        t_depart2=t+service2[N_depart2]\n",
        "      else:\n",
        "        t_depart2=np.inf\n",
        "   \n",
        "  return N_rejected\n",
        " "
      ],
      "execution_count": 0,
      "outputs": []
    },
    {
      "cell_type": "markdown",
      "metadata": {
        "id": "2lqSSoXlVDhD",
        "colab_type": "text"
      },
      "source": [
        "##Wrapper Function"
      ]
    },
    {
      "cell_type": "code",
      "metadata": {
        "id": "yALhYhI6G7kj",
        "colab_type": "code",
        "outputId": "453e3efb-e0ee-41b5-c7db-58207cd9f5e2",
        "colab": {
          "base_uri": "https://localhost:8080/",
          "height": 356
        }
      },
      "source": [
        "def system():\n",
        "  arrival_times=arrival_ordered()\n",
        "  Lemon=consumertype( arrival_times)\n",
        "  service1=servicetime1( Lemon)\n",
        "  service2=servicetime2( Lemon)\n",
        "  rejected=system_sub(arrival_times, service1,service2,Lemon)\n",
        "  return rejected\n",
        "returns=[system() for i in range(1000)]\n",
        "print(\"Variance:\", np.std(returns,ddof=1)/1000**0.5)\n",
        "plt.hist(returns)"
      ],
      "execution_count": 0,
      "outputs": [
        {
          "output_type": "stream",
          "text": [
            "Variance: 1.1530567044875824\n"
          ],
          "name": "stdout"
        },
        {
          "output_type": "execute_result",
          "data": {
            "text/plain": [
              "(array([  4.,  17.,  68., 149., 243., 258., 169.,  71.,  17.,   4.]),\n",
              " array([ 945. ,  969.4,  993.8, 1018.2, 1042.6, 1067. , 1091.4, 1115.8,\n",
              "        1140.2, 1164.6, 1189. ]),\n",
              " <a list of 10 Patch objects>)"
            ]
          },
          "metadata": {
            "tags": []
          },
          "execution_count": 38
        },
        {
          "output_type": "display_data",
          "data": {
            "image/png": "[encoded data removed]",
            "text/plain": [
              "<Figure size 432x288 with 1 Axes>"
            ]
          },
          "metadata": {
            "tags": []
          }
        }
      ]
    },
    {
      "cell_type": "markdown",
      "metadata": {
        "id": "O_hjN6HSr1Ab",
        "colab_type": "text"
      },
      "source": [
        "##Achieve variance reduction through Control variate technique"
      ]
    },
    {
      "cell_type": "code",
      "metadata": {
        "id": "rxtzKOGor84n",
        "colab_type": "code",
        "outputId": "d79d1030-d4df-473a-ce60-24d41e3ec5ed",
        "colab": {
          "base_uri": "https://localhost:8080/",
          "height": 373
        }
      },
      "source": [
        "def system2():\n",
        "  arrival_times=arrival_ordered()\n",
        "  Lemon=consumertype( arrival_times)\n",
        "  service1=servicetime1( Lemon)\n",
        "  service2=servicetime2( Lemon)\n",
        "  rejected_sample=system_sub(arrival_times, service1,service2,Lemon)\n",
        "  return rejected_sample, len(arrival_times)\n",
        "\n",
        "returns=[system2() for i in range(1000)]\n",
        "\n",
        "outputs=np.array([item[0] for item in returns])\n",
        "control=np.array([item[1] for item in returns])\n",
        "c=-np.cov(outputs,control,ddof=1)[0,1]/np.var(control,ddof=1)\n",
        "y=outputs+c*(control-LambdaT)\n",
        "\n",
        "print(\"Variance:\", np.std(y,ddof=1)/1000**0.5)\n",
        "plt.hist(y)"
      ],
      "execution_count": 0,
      "outputs": [
        {
          "output_type": "stream",
          "text": [
            "Variance: 0.36365275405697217\n"
          ],
          "name": "stdout"
        },
        {
          "output_type": "execute_result",
          "data": {
            "text/plain": [
              "(array([  3.,  16.,  60., 134., 191., 239., 162., 111.,  70.,  14.]),\n",
              " array([1032.37187356, 1039.06884742, 1045.76582129, 1052.46279515,\n",
              "        1059.15976901, 1065.85674288, 1072.55371674, 1079.25069061,\n",
              "        1085.94766447, 1092.64463833, 1099.3416122 ]),\n",
              " <a list of 10 Patch objects>)"
            ]
          },
          "metadata": {
            "tags": []
          },
          "execution_count": 39
        },
        {
          "output_type": "display_data",
          "data": {
            "image/png": "[encoded data removed]",
            "text/plain": [
              "<Figure size 432x288 with 1 Axes>"
            ]
          },
          "metadata": {
            "tags": []
          }
        }
      ]
    }
  ]
}